{
 "cells": [
  {
   "cell_type": "code",
   "execution_count": 575,
   "metadata": {},
   "outputs": [],
   "source": [
    "import pandas as pd\n",
    "import numpy as np\n",
    "import matplotlib.pyplot as plt"
   ]
  },
  {
   "cell_type": "code",
   "execution_count": 576,
   "metadata": {},
   "outputs": [],
   "source": [
    "train = pd.read_csv('train.csv')\n",
    "test = pd.read_csv('test.csv')\n"
   ]
  },
  {
   "cell_type": "code",
   "execution_count": null,
   "metadata": {},
   "outputs": [],
   "source": []
  },
  {
   "cell_type": "code",
   "execution_count": 577,
   "metadata": {},
   "outputs": [
    {
     "data": {
      "text/html": [
       "<div>\n",
       "<style scoped>\n",
       "    .dataframe tbody tr th:only-of-type {\n",
       "        vertical-align: middle;\n",
       "    }\n",
       "\n",
       "    .dataframe tbody tr th {\n",
       "        vertical-align: top;\n",
       "    }\n",
       "\n",
       "    .dataframe thead th {\n",
       "        text-align: right;\n",
       "    }\n",
       "</style>\n",
       "<table border=\"1\" class=\"dataframe\">\n",
       "  <thead>\n",
       "    <tr style=\"text-align: right;\">\n",
       "      <th></th>\n",
       "      <th>Estimated_Insects_Count</th>\n",
       "      <th>Crop_Type</th>\n",
       "      <th>Soil_Type</th>\n",
       "      <th>Pesticide_Use_Category</th>\n",
       "      <th>Number_Doses_Week</th>\n",
       "      <th>Number_Weeks_Used</th>\n",
       "      <th>Number_Weeks_Quit</th>\n",
       "      <th>Season</th>\n",
       "      <th>Crop_Damage</th>\n",
       "    </tr>\n",
       "  </thead>\n",
       "  <tbody>\n",
       "    <tr>\n",
       "      <th>count</th>\n",
       "      <td>88858.000000</td>\n",
       "      <td>88858.000000</td>\n",
       "      <td>88858.000000</td>\n",
       "      <td>88858.000000</td>\n",
       "      <td>88858.000000</td>\n",
       "      <td>79858.000000</td>\n",
       "      <td>88858.000000</td>\n",
       "      <td>88858.000000</td>\n",
       "      <td>88858.000000</td>\n",
       "    </tr>\n",
       "    <tr>\n",
       "      <th>mean</th>\n",
       "      <td>1399.012210</td>\n",
       "      <td>0.284375</td>\n",
       "      <td>0.458417</td>\n",
       "      <td>2.264186</td>\n",
       "      <td>25.849952</td>\n",
       "      <td>28.623970</td>\n",
       "      <td>9.589986</td>\n",
       "      <td>1.896959</td>\n",
       "      <td>0.190562</td>\n",
       "    </tr>\n",
       "    <tr>\n",
       "      <th>std</th>\n",
       "      <td>849.048781</td>\n",
       "      <td>0.451119</td>\n",
       "      <td>0.498271</td>\n",
       "      <td>0.461772</td>\n",
       "      <td>15.554428</td>\n",
       "      <td>12.391881</td>\n",
       "      <td>9.900631</td>\n",
       "      <td>0.701322</td>\n",
       "      <td>0.454215</td>\n",
       "    </tr>\n",
       "    <tr>\n",
       "      <th>min</th>\n",
       "      <td>150.000000</td>\n",
       "      <td>0.000000</td>\n",
       "      <td>0.000000</td>\n",
       "      <td>1.000000</td>\n",
       "      <td>0.000000</td>\n",
       "      <td>0.000000</td>\n",
       "      <td>0.000000</td>\n",
       "      <td>1.000000</td>\n",
       "      <td>0.000000</td>\n",
       "    </tr>\n",
       "    <tr>\n",
       "      <th>25%</th>\n",
       "      <td>731.000000</td>\n",
       "      <td>0.000000</td>\n",
       "      <td>0.000000</td>\n",
       "      <td>2.000000</td>\n",
       "      <td>15.000000</td>\n",
       "      <td>20.000000</td>\n",
       "      <td>0.000000</td>\n",
       "      <td>1.000000</td>\n",
       "      <td>0.000000</td>\n",
       "    </tr>\n",
       "    <tr>\n",
       "      <th>50%</th>\n",
       "      <td>1212.000000</td>\n",
       "      <td>0.000000</td>\n",
       "      <td>0.000000</td>\n",
       "      <td>2.000000</td>\n",
       "      <td>20.000000</td>\n",
       "      <td>28.000000</td>\n",
       "      <td>7.000000</td>\n",
       "      <td>2.000000</td>\n",
       "      <td>0.000000</td>\n",
       "    </tr>\n",
       "    <tr>\n",
       "      <th>75%</th>\n",
       "      <td>1898.000000</td>\n",
       "      <td>1.000000</td>\n",
       "      <td>1.000000</td>\n",
       "      <td>3.000000</td>\n",
       "      <td>40.000000</td>\n",
       "      <td>37.000000</td>\n",
       "      <td>16.000000</td>\n",
       "      <td>2.000000</td>\n",
       "      <td>0.000000</td>\n",
       "    </tr>\n",
       "    <tr>\n",
       "      <th>max</th>\n",
       "      <td>4097.000000</td>\n",
       "      <td>1.000000</td>\n",
       "      <td>1.000000</td>\n",
       "      <td>3.000000</td>\n",
       "      <td>95.000000</td>\n",
       "      <td>67.000000</td>\n",
       "      <td>50.000000</td>\n",
       "      <td>3.000000</td>\n",
       "      <td>2.000000</td>\n",
       "    </tr>\n",
       "  </tbody>\n",
       "</table>\n",
       "</div>"
      ],
      "text/plain": [
       "       Estimated_Insects_Count     Crop_Type     Soil_Type  \\\n",
       "count             88858.000000  88858.000000  88858.000000   \n",
       "mean               1399.012210      0.284375      0.458417   \n",
       "std                 849.048781      0.451119      0.498271   \n",
       "min                 150.000000      0.000000      0.000000   \n",
       "25%                 731.000000      0.000000      0.000000   \n",
       "50%                1212.000000      0.000000      0.000000   \n",
       "75%                1898.000000      1.000000      1.000000   \n",
       "max                4097.000000      1.000000      1.000000   \n",
       "\n",
       "       Pesticide_Use_Category  Number_Doses_Week  Number_Weeks_Used  \\\n",
       "count            88858.000000       88858.000000       79858.000000   \n",
       "mean                 2.264186          25.849952          28.623970   \n",
       "std                  0.461772          15.554428          12.391881   \n",
       "min                  1.000000           0.000000           0.000000   \n",
       "25%                  2.000000          15.000000          20.000000   \n",
       "50%                  2.000000          20.000000          28.000000   \n",
       "75%                  3.000000          40.000000          37.000000   \n",
       "max                  3.000000          95.000000          67.000000   \n",
       "\n",
       "       Number_Weeks_Quit        Season   Crop_Damage  \n",
       "count       88858.000000  88858.000000  88858.000000  \n",
       "mean            9.589986      1.896959      0.190562  \n",
       "std             9.900631      0.701322      0.454215  \n",
       "min             0.000000      1.000000      0.000000  \n",
       "25%             0.000000      1.000000      0.000000  \n",
       "50%             7.000000      2.000000      0.000000  \n",
       "75%            16.000000      2.000000      0.000000  \n",
       "max            50.000000      3.000000      2.000000  "
      ]
     },
     "execution_count": 577,
     "metadata": {},
     "output_type": "execute_result"
    }
   ],
   "source": [
    "train.describe()"
   ]
  },
  {
   "cell_type": "code",
   "execution_count": 578,
   "metadata": {},
   "outputs": [
    {
     "data": {
      "text/plain": [
       "ID                          object\n",
       "Estimated_Insects_Count      int64\n",
       "Crop_Type                    int64\n",
       "Soil_Type                    int64\n",
       "Pesticide_Use_Category       int64\n",
       "Number_Doses_Week            int64\n",
       "Number_Weeks_Used          float64\n",
       "Number_Weeks_Quit            int64\n",
       "Season                       int64\n",
       "Crop_Damage                  int64\n",
       "dtype: object"
      ]
     },
     "execution_count": 578,
     "metadata": {},
     "output_type": "execute_result"
    }
   ],
   "source": [
    "train.dtypes"
   ]
  },
  {
   "cell_type": "code",
   "execution_count": 579,
   "metadata": {},
   "outputs": [],
   "source": [
    "# columns = ['Crop_Type', 'Soil_Type', 'Pesticide_Use_Category', 'Season', 'Crop_Damage']\n",
    "# for column in columns:\n",
    "#     train[column] = train[column].astype('category')\n",
    "#     if column in test.columns:\n",
    "#         test[column]= test[column].astype('category')\n",
    "        \n",
    "# train.dtypes"
   ]
  },
  {
   "cell_type": "code",
   "execution_count": 580,
   "metadata": {},
   "outputs": [
    {
     "name": "stdout",
     "output_type": "stream",
     "text": [
      "ID :  (88858,)\n",
      "Estimated_Insects_Count :  (71,)\n",
      "Crop_Type :  (2,)\n",
      "Soil_Type :  (2,)\n",
      "Pesticide_Use_Category :  (3,)\n",
      "Number_Doses_Week :  (20,)\n",
      "Number_Weeks_Used :  (64,)\n",
      "Number_Weeks_Quit :  (51,)\n",
      "Season :  (3,)\n",
      "Crop_Damage :  (3,)\n"
     ]
    }
   ],
   "source": [
    "for column in train.columns:\n",
    "    print(column, \": \", train[column].value_counts().shape)"
   ]
  },
  {
   "cell_type": "code",
   "execution_count": 581,
   "metadata": {},
   "outputs": [
    {
     "data": {
      "text/plain": [
       "ID                            0\n",
       "Estimated_Insects_Count       0\n",
       "Crop_Type                     0\n",
       "Soil_Type                     0\n",
       "Pesticide_Use_Category        0\n",
       "Number_Doses_Week             0\n",
       "Number_Weeks_Used          9000\n",
       "Number_Weeks_Quit             0\n",
       "Season                        0\n",
       "Crop_Damage                   0\n",
       "dtype: int64"
      ]
     },
     "execution_count": 581,
     "metadata": {},
     "output_type": "execute_result"
    }
   ],
   "source": [
    "train.apply(lambda x: sum(x.isnull()), axis=0)"
   ]
  },
  {
   "cell_type": "code",
   "execution_count": 582,
   "metadata": {
    "scrolled": true
   },
   "outputs": [
    {
     "data": {
      "text/plain": [
       "ID                            0\n",
       "Estimated_Insects_Count       0\n",
       "Crop_Type                     0\n",
       "Soil_Type                     0\n",
       "Pesticide_Use_Category        0\n",
       "Number_Doses_Week             0\n",
       "Number_Weeks_Used          5893\n",
       "Number_Weeks_Quit             0\n",
       "Season                        0\n",
       "dtype: int64"
      ]
     },
     "execution_count": 582,
     "metadata": {},
     "output_type": "execute_result"
    }
   ],
   "source": [
    "test.apply(lambda x: sum(x.isnull()), axis=0)"
   ]
  },
  {
   "cell_type": "markdown",
   "metadata": {},
   "source": [
    "## the classifiers do better when Season and Soil_Type are not included ##"
   ]
  },
  {
   "cell_type": "code",
   "execution_count": 583,
   "metadata": {},
   "outputs": [],
   "source": [
    "train = train.drop(columns=['Season', 'Soil_Type'])\n",
    "test = test.drop(columns=['Season', 'Soil_Type'])"
   ]
  },
  {
   "cell_type": "code",
   "execution_count": 584,
   "metadata": {},
   "outputs": [
    {
     "data": {
      "text/plain": [
       "<matplotlib.axes._subplots.AxesSubplot at 0x7f3b383c42e0>"
      ]
     },
     "execution_count": 584,
     "metadata": {},
     "output_type": "execute_result"
    },
    {
     "data": {
      "image/png": "[encoded data removed]",
      "text/plain": [
       "<Figure size 1440x720 with 1 Axes>"
      ]
     },
     "metadata": {
      "needs_background": "light"
     },
     "output_type": "display_data"
    }
   ],
   "source": [
    "train.groupby(['Estimated_Insects_Count', 'Crop_Damage']).size().unstack().plot.bar(figsize=(20,10))"
   ]
  },
  {
   "cell_type": "code",
   "execution_count": 585,
   "metadata": {},
   "outputs": [
    {
     "data": {
      "text/plain": [
       "array([ 150,  151,  168,  169,  188,  209,  231,  232,  256,  257,  283,\n",
       "        311,  312,  342,  375,  410,  411,  448,  488,  489,  531,  577,\n",
       "        625,  626,  677,  731,  732,  789,  790,  850,  851,  915,  916,\n",
       "        984, 1056, 1132, 1212, 1296, 1297, 1385, 1478, 1575, 1576, 1678,\n",
       "       1785, 1786, 1898, 2015, 2016, 2138, 2139, 2267, 2401, 2402, 2541,\n",
       "       2542, 2687, 2688, 2840, 2999, 3164, 3165, 3336, 3337, 3515, 3516,\n",
       "       3702, 3895, 3896, 4096, 4097])"
      ]
     },
     "execution_count": 585,
     "metadata": {},
     "output_type": "execute_result"
    }
   ],
   "source": [
    "train['Estimated_Insects_Count'].sort_values().unique()"
   ]
  },
  {
   "cell_type": "code",
   "execution_count": 586,
   "metadata": {},
   "outputs": [],
   "source": [
    "values = [151, 169, 232, 257, 312, 411, 489, 626, 732, 790, 851, 916, 1297, 1576, 1786, 2016, 2139, 2402, 2542, 2688, 3165, 3337, 3516, 3896, 4097]\n",
    "for item in values:\n",
    "    train['Estimated_Insects_Count'] = np.where(train['Estimated_Insects_Count'] == item, item-1, train['Estimated_Insects_Count'])\n",
    "    test['Estimated_Insects_Count'] = np.where(test['Estimated_Insects_Count'] == item, item-1, test['Estimated_Insects_Count'])"
   ]
  },
  {
   "cell_type": "code",
   "execution_count": 587,
   "metadata": {},
   "outputs": [
    {
     "data": {
      "text/plain": [
       "array([ 150,  168,  188,  209,  231,  256,  283,  311,  342,  375,  410,\n",
       "        448,  488,  531,  577,  625,  677,  731,  789,  850,  915,  984,\n",
       "       1056, 1132, 1212, 1296, 1385, 1478, 1575, 1678, 1785, 1898, 2015,\n",
       "       2138, 2267, 2401, 2541, 2687, 2840, 2999, 3164, 3336, 3515, 3702,\n",
       "       3895, 4096])"
      ]
     },
     "execution_count": 587,
     "metadata": {},
     "output_type": "execute_result"
    }
   ],
   "source": [
    "test['Estimated_Insects_Count'].sort_values().unique()"
   ]
  },
  {
   "cell_type": "code",
   "execution_count": 588,
   "metadata": {},
   "outputs": [],
   "source": [
    "# for column in train.drop(columns=['ID']):\n",
    "#     train.groupby([column, 'Crop_Damage']).size().unstack().plot.bar(figsize=(10,6))"
   ]
  },
  {
   "cell_type": "markdown",
   "metadata": {},
   "source": [
    "## Soil Type and Season do not seem overly important ##"
   ]
  },
  {
   "cell_type": "code",
   "execution_count": 589,
   "metadata": {},
   "outputs": [
    {
     "data": {
      "text/plain": [
       "<matplotlib.axes._subplots.AxesSubplot at 0x7f3b32e1aac0>"
      ]
     },
     "execution_count": 589,
     "metadata": {},
     "output_type": "execute_result"
    },
    {
     "data": {
      "image/png": "[encoded data removed]",
      "text/plain": [
       "<Figure size 432x288 with 1 Axes>"
      ]
     },
     "metadata": {
      "needs_background": "light"
     },
     "output_type": "display_data"
    }
   ],
   "source": [
    "train.plot.hist(y='Number_Weeks_Used', rot=0)"
   ]
  },
  {
   "cell_type": "markdown",
   "metadata": {},
   "source": [
    "## We will fill the missing values using the knn algorithm ##"
   ]
  },
  {
   "cell_type": "code",
   "execution_count": 590,
   "metadata": {},
   "outputs": [],
   "source": [
    "from sklearn.impute import KNNImputer \n",
    "imputer = KNNImputer()\n",
    "X = imputer.fit_transform(train.drop(columns=['ID']))\n",
    "y = imputer.fit_transform(test.drop(columns=['ID']))"
   ]
  },
  {
   "cell_type": "code",
   "execution_count": null,
   "metadata": {},
   "outputs": [],
   "source": []
  },
  {
   "cell_type": "code",
   "execution_count": null,
   "metadata": {},
   "outputs": [],
   "source": []
  },
  {
   "cell_type": "code",
   "execution_count": 591,
   "metadata": {},
   "outputs": [],
   "source": [
    "columns = train.drop(columns=['ID']).columns\n",
    "train[columns] = pd.DataFrame(data=X, columns=columns)"
   ]
  },
  {
   "cell_type": "code",
   "execution_count": 592,
   "metadata": {},
   "outputs": [
    {
     "data": {
      "text/plain": [
       "ID                         0\n",
       "Estimated_Insects_Count    0\n",
       "Crop_Type                  0\n",
       "Pesticide_Use_Category     0\n",
       "Number_Doses_Week          0\n",
       "Number_Weeks_Used          0\n",
       "Number_Weeks_Quit          0\n",
       "Crop_Damage                0\n",
       "dtype: int64"
      ]
     },
     "execution_count": 592,
     "metadata": {},
     "output_type": "execute_result"
    }
   ],
   "source": [
    "train.apply(lambda x: sum(x.isnull()), axis=0)"
   ]
  },
  {
   "cell_type": "code",
   "execution_count": 593,
   "metadata": {},
   "outputs": [],
   "source": [
    "columns = test.drop(columns=['ID']).columns\n",
    "test[columns] = pd.DataFrame(data=y, columns=columns)"
   ]
  },
  {
   "cell_type": "code",
   "execution_count": 594,
   "metadata": {},
   "outputs": [
    {
     "data": {
      "text/plain": [
       "ID                         0\n",
       "Estimated_Insects_Count    0\n",
       "Crop_Type                  0\n",
       "Pesticide_Use_Category     0\n",
       "Number_Doses_Week          0\n",
       "Number_Weeks_Used          0\n",
       "Number_Weeks_Quit          0\n",
       "dtype: int64"
      ]
     },
     "execution_count": 594,
     "metadata": {},
     "output_type": "execute_result"
    }
   ],
   "source": [
    "test.apply(lambda x: sum(x.isnull()), axis=0)"
   ]
  },
  {
   "cell_type": "code",
   "execution_count": 607,
   "metadata": {},
   "outputs": [
    {
     "data": {
      "text/plain": [
       "ID                         object\n",
       "Estimated_Insects_Count     int64\n",
       "Crop_Type                   int64\n",
       "Pesticide_Use_Category      int64\n",
       "Number_Doses_Week           int64\n",
       "Number_Weeks_Used           int64\n",
       "Number_Weeks_Quit           int64\n",
       "Crop_Damage                 int64\n",
       "dtype: object"
      ]
     },
     "execution_count": 607,
     "metadata": {},
     "output_type": "execute_result"
    }
   ],
   "source": [
    "columns = ['Crop_Type', 'Soil_Type', 'Pesticide_Use_Category', 'Season', 'Crop_Damage']\n",
    "columns = ['Pesticide_Use_Category',  'Crop_Damage']\n",
    "for column in columns:\n",
    "    train[column] = train[column].astype('int')\n",
    "    if column in test.columns:\n",
    "        test[column]= test[column].astype('int')\n",
    "columns.append('ID')\n",
    "columns = train.drop(columns = columns)\n",
    "for column in columns:\n",
    "    train[column] = train[column].astype(int)\n",
    "    test[column] = test[column].astype(int)\n",
    "        \n",
    "train.dtypes"
   ]
  },
  {
   "cell_type": "code",
   "execution_count": 596,
   "metadata": {},
   "outputs": [],
   "source": [
    "# columns=['Crop_Type', 'Soil_Type', 'Pesticide_Use_Category', 'Season']\n",
    "# columns=['Crop_Type', 'Pesticide_Use_Category']\n",
    "# train = pd.get_dummies(train, columns=columns)\n",
    "# test = pd.get_dummies(test, columns=columns)\n",
    "# train.head(1)"
   ]
  },
  {
   "cell_type": "code",
   "execution_count": 608,
   "metadata": {},
   "outputs": [
    {
     "data": {
      "text/plain": [
       "ID                         object\n",
       "Estimated_Insects_Count     int64\n",
       "Crop_Type                   int64\n",
       "Pesticide_Use_Category      int64\n",
       "Number_Doses_Week           int64\n",
       "Number_Weeks_Used           int64\n",
       "Number_Weeks_Quit           int64\n",
       "Crop_Damage                 int64\n",
       "dtype: object"
      ]
     },
     "execution_count": 608,
     "metadata": {},
     "output_type": "execute_result"
    }
   ],
   "source": [
    "train.dtypes"
   ]
  },
  {
   "cell_type": "code",
   "execution_count": 609,
   "metadata": {},
   "outputs": [],
   "source": [
    "from sklearn.model_selection import train_test_split\n",
    "X = train.drop(columns=['ID', 'Crop_Damage'])\n",
    "y = train['Crop_Damage']\n",
    "X_train, X_test, y_train, y_test = train_test_split(X,y, random_state=1)"
   ]
  },
  {
   "cell_type": "code",
   "execution_count": 714,
   "metadata": {},
   "outputs": [],
   "source": [
    "# def KNN(X_train, X_test, y_train, y_test):\n",
    "def KNN(X_train, X_test, y_train,):\n",
    "    from sklearn.neighbors import KNeighborsClassifier as Classifier\n",
    "    from sklearn import metrics\n",
    "#     K=50\n",
    "#     accuracies = np.zeros(K-1)\n",
    "#     for i in range(1, K):\n",
    "#         knn = Classifier(n_neighbors=i).fit(X_train, y_train)\n",
    "#         y_hat = knn.predict(X_test)\n",
    "#         accuracies[i-1] = metrics.accuracy_score(y_hat, y_test)\n",
    "#     k = accuracies.argmax()+1\n",
    "#     print(\"The best value of k is \", k)\n",
    "    classifier = Classifier(n_neighbors=12).fit(X_train, y_train)\n",
    "    y_hat = classifier.predict(X_test)\n",
    "#     print(\"KNN Accuracy Score: \", metrics.accuracy_score(y_test, y_hat))\n",
    "#     print('KNN Confusion Matrix:')\n",
    "#     print(metrics.confusion_matrix(y_test, y_hat))\n",
    "    return y_hat\n",
    "    "
   ]
  },
  {
   "cell_type": "code",
   "execution_count": 691,
   "metadata": {},
   "outputs": [],
   "source": [
    "# def RF(X_train, X_test, y_train, y_test, depth=5, min_samples=2):\n",
    "def RF(X_train, X_test, y_train,depth=5, min_samples=2):\n",
    "\n",
    "    from sklearn.ensemble import RandomForestClassifier as Classifier\n",
    "    from sklearn import metrics\n",
    "    \n",
    "    classifier = Classifier(max_depth=depth, min_samples_split=min_samples, random_state=1).fit(X_train, y_train)\n",
    "    y_hat = classifier.predict(X_test)\n",
    "#     print(\"RF Accuracy Score: \", metrics.accuracy_score(y_test, y_hat))\n",
    "#     print(\"RF Confusion Matrix: \")\n",
    "#     print(metrics.confusion_matrix(y_test, y_hat))\n",
    "    df = pd.DataFrame(data=classifier.feature_importances_, index=X_train.columns, columns=['coefficients'])\n",
    "    df.plot(kind='bar')\n",
    "    return y_hat\n",
    "    "
   ]
  },
  {
   "cell_type": "code",
   "execution_count": 692,
   "metadata": {},
   "outputs": [],
   "source": [
    "def LR(X_train, X_test, y_train, y_test):\n",
    "    from sklearn.linear_model import LogisticRegression as Classifier\n",
    "    from sklearn import metrics\n",
    "    \n",
    "    classifier = Classifier(max_iter=10000).fit(X_train, y_train)\n",
    "    y_hat = classifier.predict(X_test)\n",
    "    print(\"LR Accuracy Score: \", metrics.accuracy_score(y_test, y_hat))\n",
    "    print(\"LR Confusion Matrix: \")\n",
    "    print(metrics.confusion_matrix(y_test, y_hat))"
   ]
  },
  {
   "cell_type": "code",
   "execution_count": 693,
   "metadata": {},
   "outputs": [],
   "source": [
    "def Bayes(X_train, X_test, y_train, y_test):\n",
    "    from sklearn.naive_bayes import GaussianNB as Classifier\n",
    "    from sklearn import metrics\n",
    "    classifier = Classifier().fit(X_train, y_train)\n",
    "    y_hat = classifier.predict(X_test)\n",
    "    print(\"Bayes Accuracy Score: \", metrics.accuracy_score(y_test, y_hat))\n",
    "    print(\"Bayes Confusion Matrix: \")\n",
    "    print(metrics.confusion_matrix(y_test, y_hat))"
   ]
  },
  {
   "cell_type": "code",
   "execution_count": 715,
   "metadata": {},
   "outputs": [],
   "source": [
    "def XGB(X_train, X_test, y_train):\n",
    "# def XGB(X_train, X_test, y_train, y_test):\n",
    "    import xgboost as xgb\n",
    "    from sklearn import metrics\n",
    "    dtrain = xgb.DMatrix(X_train, label=y_train)\n",
    "    dtest = xgb.DMatrix(X_test)\n",
    "    param = {\n",
    "    'max_depth': 10,  # the maximum depth of each tree\n",
    "    'eta': 0.15,  # the training step for each iteration\n",
    "    'silent': 1,  # logging mode - quiet\n",
    "    'objective': 'multi:softprob',  # error evaluation for multiclass training\n",
    "    'num_class': 3,\n",
    "    'colsample_bytree': 0.5,\n",
    "    'gamma':0.05}  # the number of classes that exist in this datset\n",
    "    num_round = 100  # the number of training iterations\n",
    "    bst = xgb.train(param, dtrain, num_round)\n",
    "    probs = bst.predict(dtest)\n",
    "    \n",
    "    y_hat = probs.argmax(axis=1)\n",
    "#     print(\"XGB Accuracy Score: \", metrics.accuracy_score(y_test, y_hat))\n",
    "#     print(\"XGB Confusion Matrix: \")\n",
    "#     print(metrics.confusion_matrix(y_test, y_hat))\n",
    "    return y_hat"
   ]
  },
  {
   "cell_type": "code",
   "execution_count": 695,
   "metadata": {},
   "outputs": [],
   "source": [
    "def ADA(X_train, X_test, y_train, y_test):\n",
    "# def RF(X_train, X_test, y_train,depth=5, min_samples=2):\n",
    "\n",
    "    from sklearn.ensemble import AdaBoostClassifier as Classifier\n",
    "    from sklearn import metrics\n",
    "    \n",
    "    classifier = Classifier(n_estimators=1500, learning_rate=.3, random_state=1).fit(X_train, y_train)\n",
    "    y_hat = classifier.predict(X_test)\n",
    "    print(\"RF Accuracy Score: \", metrics.accuracy_score(y_test, y_hat))\n",
    "    print(\"RF Confusion Matrix: \")\n",
    "    print(metrics.confusion_matrix(y_test, y_hat))\n",
    "    df = pd.DataFrame(data=classifier.feature_importances_, index=X_train.columns, columns=['coefficients'])\n",
    "    df.plot(kind='bar')\n",
    "    return y_hat"
   ]
  },
  {
   "cell_type": "code",
   "execution_count": 696,
   "metadata": {},
   "outputs": [],
   "source": [
    "def Neural(X_train, X_test, y_train, y_test):\n",
    "# def RF(X_train, X_test, y_train,depth=5, min_samples=2):\n",
    "\n",
    "    from sklearn.neural_network import MLPClassifier as Classifier\n",
    "    from sklearn import metrics\n",
    "    \n",
    "    classifier = Classifier(hidden_layer_sizes=1000).fit(X_train, y_train)\n",
    "    y_hat = classifier.predict(X_test)\n",
    "    print(\"RF Accuracy Score: \", metrics.accuracy_score(y_test, y_hat))\n",
    "    print(\"RF Confusion Matrix: \")\n",
    "    print(metrics.confusion_matrix(y_test, y_hat))\n",
    "\n",
    "    return y_hat"
   ]
  },
  {
   "cell_type": "code",
   "execution_count": 697,
   "metadata": {},
   "outputs": [],
   "source": [
    "from sklearn.model_selection import train_test_split\n",
    "X = train.drop(columns=['ID', 'Crop_Damage'])\n",
    "y = train['Crop_Damage']\n",
    "X_train, X_test, y_train, y_test = train_test_split(X,y, random_state=1)"
   ]
  },
  {
   "cell_type": "code",
   "execution_count": 684,
   "metadata": {},
   "outputs": [],
   "source": [
    "# from imblearn.over_sampling import RandomOverSampler\n",
    "# cc = RandomOverSampler(sampling_strategy={0:55719, 1:13500, 2: 12000}, random_state=1)\n",
    "# X_train, y_train = cc.fit_resample(X_train, y_train)\n",
    "# # X_train = X[['mean', 'Test 1']]\n",
    "# # y_train = y"
   ]
  },
  {
   "cell_type": "code",
   "execution_count": 686,
   "metadata": {},
   "outputs": [
    {
     "name": "stdout",
     "output_type": "stream",
     "text": [
      "RF Accuracy Score:  0.8405131667792033\n",
      "RF Confusion Matrix: \n",
      "[[18329   190     0]\n",
      " [ 2798   343     0]\n",
      " [  435   120     0]]\n"
     ]
    },
    {
     "data": {
      "text/plain": [
       "array([0, 0, 0, ..., 0, 0, 0])"
      ]
     },
     "execution_count": 686,
     "metadata": {},
     "output_type": "execute_result"
    },
    {
     "data": {
      "image/png": "[encoded data removed]",
      "text/plain": [
       "<Figure size 432x288 with 1 Axes>"
      ]
     },
     "metadata": {
      "needs_background": "light"
     },
     "output_type": "display_data"
    }
   ],
   "source": [
    "ADA(X_train, X_test, y_train, y_test)"
   ]
  },
  {
   "cell_type": "code",
   "execution_count": 617,
   "metadata": {},
   "outputs": [
    {
     "name": "stdout",
     "output_type": "stream",
     "text": [
      "[23:43:05] WARNING: /workspace/src/learner.cc:480: \n",
      "Parameters: { silent } might not be used.\n",
      "\n",
      "  This may not be accurate due to some parameters are only used in language bindings but\n",
      "  passed down to XGBoost core.  Or some parameters are not used but slip through this\n",
      "  verification. Please open an issue if you find above cases.\n",
      "\n",
      "\n",
      "XGB Accuracy Score:  0.8449246004951609\n",
      "XGB Confusion Matrix: \n",
      "[[18109   407     3]\n",
      " [ 2479   660     2]\n",
      " [  352   202     1]]\n"
     ]
    },
    {
     "data": {
      "text/plain": [
       "array([0, 0, 0, ..., 0, 0, 0])"
      ]
     },
     "execution_count": 617,
     "metadata": {},
     "output_type": "execute_result"
    }
   ],
   "source": [
    "XGB(X_train, X_test, y_train, y_test)"
   ]
  },
  {
   "cell_type": "code",
   "execution_count": 618,
   "metadata": {},
   "outputs": [
    {
     "name": "stdout",
     "output_type": "stream",
     "text": [
      "LR Accuracy Score:  0.8306999774926851\n",
      "LR Confusion Matrix: \n",
      "[[18296   223     0]\n",
      " [ 2983   158     0]\n",
      " [  531    24     0]]\n"
     ]
    }
   ],
   "source": [
    "LR(X_train, X_test, y_train, y_test)"
   ]
  },
  {
   "cell_type": "code",
   "execution_count": 687,
   "metadata": {},
   "outputs": [
    {
     "name": "stdout",
     "output_type": "stream",
     "text": [
      "The best value of k is  12\n",
      "KNN Accuracy Score:  0.8378573036236777\n",
      "KNN Confusion Matrix:\n",
      "[[18095   412    12]\n",
      " [ 2619   509    13]\n",
      " [  389   157     9]]\n"
     ]
    }
   ],
   "source": [
    "KNN(X_train, X_test, y_train, y_test)"
   ]
  },
  {
   "cell_type": "code",
   "execution_count": 619,
   "metadata": {},
   "outputs": [
    {
     "name": "stdout",
     "output_type": "stream",
     "text": [
      "RF Accuracy Score:  0.8455097906819716\n",
      "RF Confusion Matrix: \n",
      "[[18203   314     2]\n",
      " [ 2559   577     5]\n",
      " [  374   178     3]]\n"
     ]
    },
    {
     "data": {
      "text/plain": [
       "array([0, 0, 0, ..., 0, 0, 0])"
      ]
     },
     "execution_count": 619,
     "metadata": {},
     "output_type": "execute_result"
    },
    {
     "data": {
      "image/png": "[encoded data removed]",
      "text/plain": [
       "<Figure size 432x288 with 1 Axes>"
      ]
     },
     "metadata": {
      "needs_background": "light"
     },
     "output_type": "display_data"
    }
   ],
   "source": [
    "RF(X_train, X_test, y_train, y_test, depth=14, min_samples=8)"
   ]
  },
  {
   "cell_type": "code",
   "execution_count": null,
   "metadata": {},
   "outputs": [],
   "source": [
    "X_train.columns"
   ]
  },
  {
   "cell_type": "code",
   "execution_count": 716,
   "metadata": {},
   "outputs": [],
   "source": [
    "X_train = train.drop(columns=['ID','Crop_Damage'])\n",
    "y_train = train['Crop_Damage']\n",
    "X_test = test.drop(columns=['ID'])"
   ]
  },
  {
   "cell_type": "code",
   "execution_count": 717,
   "metadata": {},
   "outputs": [
    {
     "data": {
      "text/plain": [
       "(59310, 6)"
      ]
     },
     "execution_count": 717,
     "metadata": {},
     "output_type": "execute_result"
    }
   ],
   "source": [
    "X_test.shape"
   ]
  },
  {
   "cell_type": "code",
   "execution_count": 718,
   "metadata": {},
   "outputs": [
    {
     "name": "stdout",
     "output_type": "stream",
     "text": [
      "[00:12:32] WARNING: /workspace/src/learner.cc:480: \n",
      "Parameters: { silent } might not be used.\n",
      "\n",
      "  This may not be accurate due to some parameters are only used in language bindings but\n",
      "  passed down to XGBoost core.  Or some parameters are not used but slip through this\n",
      "  verification. Please open an issue if you find above cases.\n",
      "\n",
      "\n"
     ]
    },
    {
     "data": {
      "image/png": "[encoded data removed]",
      "text/plain": [
       "<Figure size 432x288 with 1 Axes>"
      ]
     },
     "metadata": {
      "needs_background": "light"
     },
     "output_type": "display_data"
    }
   ],
   "source": [
    "rf = RF(X_train, X_test, y_train, depth=14, min_samples=8)\n",
    "knn = KNN(X_train, X_test, y_train)\n",
    "xgb = XGB(X_train, X_test, y_train)\n",
    "# pred = XGB(X_train, X_test, y_train)\n"
   ]
  },
  {
   "cell_type": "code",
   "execution_count": 719,
   "metadata": {},
   "outputs": [],
   "source": [
    "results = pd.DataFrame(rf, columns=['RF'])"
   ]
  },
  {
   "cell_type": "code",
   "execution_count": 720,
   "metadata": {},
   "outputs": [],
   "source": [
    "results['xgb'] = xgb\n",
    "results['knn'] = knn\n",
    "results.head()\n",
    "yhat = results.mode(axis=1)[0]"
   ]
  },
  {
   "cell_type": "code",
   "execution_count": 722,
   "metadata": {},
   "outputs": [
    {
     "data": {
      "text/plain": [
       "0        0.0\n",
       "1        1.0\n",
       "2        1.0\n",
       "3        1.0\n",
       "4        1.0\n",
       "        ... \n",
       "59305    0.0\n",
       "59306    0.0\n",
       "59307    1.0\n",
       "59308    0.0\n",
       "59309    0.0\n",
       "Name: 0, Length: 59310, dtype: float64"
      ]
     },
     "execution_count": 722,
     "metadata": {},
     "output_type": "execute_result"
    }
   ],
   "source": [
    "yhat"
   ]
  },
  {
   "cell_type": "code",
   "execution_count": null,
   "metadata": {},
   "outputs": [],
   "source": [
    "yhat.shape"
   ]
  },
  {
   "cell_type": "code",
   "execution_count": null,
   "metadata": {},
   "outputs": [],
   "source": [
    "test.shape"
   ]
  },
  {
   "cell_type": "code",
   "execution_count": 723,
   "metadata": {},
   "outputs": [],
   "source": [
    "test['Crop_Damage'] = yhat.tolist()"
   ]
  },
  {
   "cell_type": "code",
   "execution_count": 724,
   "metadata": {},
   "outputs": [
    {
     "data": {
      "text/html": [
       "<div>\n",
       "<style scoped>\n",
       "    .dataframe tbody tr th:only-of-type {\n",
       "        vertical-align: middle;\n",
       "    }\n",
       "\n",
       "    .dataframe tbody tr th {\n",
       "        vertical-align: top;\n",
       "    }\n",
       "\n",
       "    .dataframe thead th {\n",
       "        text-align: right;\n",
       "    }\n",
       "</style>\n",
       "<table border=\"1\" class=\"dataframe\">\n",
       "  <thead>\n",
       "    <tr style=\"text-align: right;\">\n",
       "      <th></th>\n",
       "      <th>ID</th>\n",
       "      <th>Estimated_Insects_Count</th>\n",
       "      <th>Crop_Type</th>\n",
       "      <th>Pesticide_Use_Category</th>\n",
       "      <th>Number_Doses_Week</th>\n",
       "      <th>Number_Weeks_Used</th>\n",
       "      <th>Number_Weeks_Quit</th>\n",
       "      <th>Crop_Damage</th>\n",
       "    </tr>\n",
       "  </thead>\n",
       "  <tbody>\n",
       "    <tr>\n",
       "      <th>0</th>\n",
       "      <td>F00000002</td>\n",
       "      <td>188</td>\n",
       "      <td>1</td>\n",
       "      <td>1</td>\n",
       "      <td>0</td>\n",
       "      <td>3</td>\n",
       "      <td>0</td>\n",
       "      <td>0.0</td>\n",
       "    </tr>\n",
       "    <tr>\n",
       "      <th>1</th>\n",
       "      <td>F00000007</td>\n",
       "      <td>410</td>\n",
       "      <td>1</td>\n",
       "      <td>1</td>\n",
       "      <td>0</td>\n",
       "      <td>0</td>\n",
       "      <td>0</td>\n",
       "      <td>1.0</td>\n",
       "    </tr>\n",
       "    <tr>\n",
       "      <th>2</th>\n",
       "      <td>F00000011</td>\n",
       "      <td>625</td>\n",
       "      <td>1</td>\n",
       "      <td>1</td>\n",
       "      <td>0</td>\n",
       "      <td>0</td>\n",
       "      <td>0</td>\n",
       "      <td>1.0</td>\n",
       "    </tr>\n",
       "    <tr>\n",
       "      <th>3</th>\n",
       "      <td>F00000013</td>\n",
       "      <td>731</td>\n",
       "      <td>1</td>\n",
       "      <td>1</td>\n",
       "      <td>0</td>\n",
       "      <td>0</td>\n",
       "      <td>0</td>\n",
       "      <td>1.0</td>\n",
       "    </tr>\n",
       "    <tr>\n",
       "      <th>4</th>\n",
       "      <td>F00000014</td>\n",
       "      <td>789</td>\n",
       "      <td>0</td>\n",
       "      <td>1</td>\n",
       "      <td>0</td>\n",
       "      <td>0</td>\n",
       "      <td>0</td>\n",
       "      <td>1.0</td>\n",
       "    </tr>\n",
       "    <tr>\n",
       "      <th>...</th>\n",
       "      <td>...</td>\n",
       "      <td>...</td>\n",
       "      <td>...</td>\n",
       "      <td>...</td>\n",
       "      <td>...</td>\n",
       "      <td>...</td>\n",
       "      <td>...</td>\n",
       "      <td>...</td>\n",
       "    </tr>\n",
       "    <tr>\n",
       "      <th>59305</th>\n",
       "      <td>F00155937</td>\n",
       "      <td>3336</td>\n",
       "      <td>1</td>\n",
       "      <td>2</td>\n",
       "      <td>20</td>\n",
       "      <td>34</td>\n",
       "      <td>12</td>\n",
       "      <td>0.0</td>\n",
       "    </tr>\n",
       "    <tr>\n",
       "      <th>59306</th>\n",
       "      <td>F00155940</td>\n",
       "      <td>3515</td>\n",
       "      <td>1</td>\n",
       "      <td>2</td>\n",
       "      <td>20</td>\n",
       "      <td>32</td>\n",
       "      <td>10</td>\n",
       "      <td>0.0</td>\n",
       "    </tr>\n",
       "    <tr>\n",
       "      <th>59307</th>\n",
       "      <td>F00155941</td>\n",
       "      <td>3702</td>\n",
       "      <td>1</td>\n",
       "      <td>2</td>\n",
       "      <td>10</td>\n",
       "      <td>12</td>\n",
       "      <td>48</td>\n",
       "      <td>1.0</td>\n",
       "    </tr>\n",
       "    <tr>\n",
       "      <th>59308</th>\n",
       "      <td>F00155943</td>\n",
       "      <td>3702</td>\n",
       "      <td>1</td>\n",
       "      <td>2</td>\n",
       "      <td>10</td>\n",
       "      <td>28</td>\n",
       "      <td>17</td>\n",
       "      <td>0.0</td>\n",
       "    </tr>\n",
       "    <tr>\n",
       "      <th>59309</th>\n",
       "      <td>F00155944</td>\n",
       "      <td>3895</td>\n",
       "      <td>1</td>\n",
       "      <td>2</td>\n",
       "      <td>5</td>\n",
       "      <td>52</td>\n",
       "      <td>7</td>\n",
       "      <td>0.0</td>\n",
       "    </tr>\n",
       "  </tbody>\n",
       "</table>\n",
       "<p>59310 rows × 8 columns</p>\n",
       "</div>"
      ],
      "text/plain": [
       "              ID  Estimated_Insects_Count  Crop_Type  Pesticide_Use_Category  \\\n",
       "0      F00000002                      188          1                       1   \n",
       "1      F00000007                      410          1                       1   \n",
       "2      F00000011                      625          1                       1   \n",
       "3      F00000013                      731          1                       1   \n",
       "4      F00000014                      789          0                       1   \n",
       "...          ...                      ...        ...                     ...   \n",
       "59305  F00155937                     3336          1                       2   \n",
       "59306  F00155940                     3515          1                       2   \n",
       "59307  F00155941                     3702          1                       2   \n",
       "59308  F00155943                     3702          1                       2   \n",
       "59309  F00155944                     3895          1                       2   \n",
       "\n",
       "       Number_Doses_Week  Number_Weeks_Used  Number_Weeks_Quit  Crop_Damage  \n",
       "0                      0                  3                  0          0.0  \n",
       "1                      0                  0                  0          1.0  \n",
       "2                      0                  0                  0          1.0  \n",
       "3                      0                  0                  0          1.0  \n",
       "4                      0                  0                  0          1.0  \n",
       "...                  ...                ...                ...          ...  \n",
       "59305                 20                 34                 12          0.0  \n",
       "59306                 20                 32                 10          0.0  \n",
       "59307                 10                 12                 48          1.0  \n",
       "59308                 10                 28                 17          0.0  \n",
       "59309                  5                 52                  7          0.0  \n",
       "\n",
       "[59310 rows x 8 columns]"
      ]
     },
     "execution_count": 724,
     "metadata": {},
     "output_type": "execute_result"
    }
   ],
   "source": [
    "test"
   ]
  },
  {
   "cell_type": "code",
   "execution_count": 725,
   "metadata": {},
   "outputs": [],
   "source": [
    "submission = test[['ID', 'Crop_Damage']]\n",
    "submission.to_csv('submission.csv')"
   ]
  },
  {
   "cell_type": "code",
   "execution_count": null,
   "metadata": {},
   "outputs": [],
   "source": []
  }
 ],
 "metadata": {
  "kernelspec": {
   "display_name": "Python 3",
   "language": "python",
   "name": "python3"
  },
  "language_info": {
   "codemirror_mode": {
    "name": "ipython",
    "version": 3
   },
   "file_extension": ".py",
   "mimetype": "text/x-python",
   "name": "python",
   "nbconvert_exporter": "python",
   "pygments_lexer": "ipython3",
   "version": "3.8.2"
  }
 },
 "nbformat": 4,
 "nbformat_minor": 4
}
