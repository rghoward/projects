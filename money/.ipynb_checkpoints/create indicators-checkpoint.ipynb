{
 "cells": [
  {
   "cell_type": "code",
   "execution_count": 1,
   "metadata": {},
   "outputs": [],
   "source": [
    "import pandas as pd\n",
    "import numpy as np\n",
    "import yfinance as yf\n",
    "import sys"
   ]
  },
  {
   "cell_type": "code",
   "execution_count": 2,
   "metadata": {},
   "outputs": [],
   "source": [
    "#this function is used to update data that didn't populate in initial data call above\n",
    "def update_data(symbol):\n",
    "    data = yf.download(\n",
    "            tickers = symbol,\n",
    "            period = '200d',\n",
    "            group_by = 'ticker',\n",
    "            auto_adjust = True,\n",
    "            threads = True,\n",
    "            proxy = None)\n",
    "    return data"
   ]
  },
  {
   "cell_type": "code",
   "execution_count": 3,
   "metadata": {},
   "outputs": [
    {
     "data": {
      "text/html": [
       "<div>\n",
       "<style scoped>\n",
       "    .dataframe tbody tr th:only-of-type {\n",
       "        vertical-align: middle;\n",
       "    }\n",
       "\n",
       "    .dataframe tbody tr th {\n",
       "        vertical-align: top;\n",
       "    }\n",
       "\n",
       "    .dataframe thead th {\n",
       "        text-align: right;\n",
       "    }\n",
       "</style>\n",
       "<table border=\"1\" class=\"dataframe\">\n",
       "  <thead>\n",
       "    <tr style=\"text-align: right;\">\n",
       "      <th></th>\n",
       "      <th>Unnamed: 0</th>\n",
       "      <th>Symbol</th>\n",
       "      <th>Name</th>\n",
       "      <th>Exchange</th>\n",
       "      <th>industry</th>\n",
       "      <th>sector</th>\n",
       "      <th>dividendRate</th>\n",
       "      <th>exDividendDate</th>\n",
       "      <th>lastSplitDate</th>\n",
       "      <th>lastSplitFactor</th>\n",
       "      <th>upcoming_earnings_date</th>\n",
       "      <th>previous_earnings_date</th>\n",
       "    </tr>\n",
       "  </thead>\n",
       "  <tbody>\n",
       "    <tr>\n",
       "      <th>0</th>\n",
       "      <td>0</td>\n",
       "      <td>A</td>\n",
       "      <td>Agilent Technologies, Inc</td>\n",
       "      <td>NYSE</td>\n",
       "      <td>Diagnostics &amp; Research</td>\n",
       "      <td>Healthcare</td>\n",
       "      <td>0.72</td>\n",
       "      <td>1.593389e+09</td>\n",
       "      <td>1.414973e+09</td>\n",
       "      <td>1398:1000</td>\n",
       "      <td>2020-11-23</td>\n",
       "      <td>2020-07-31 00:00:00</td>\n",
       "    </tr>\n",
       "    <tr>\n",
       "      <th>1</th>\n",
       "      <td>1</td>\n",
       "      <td>AA</td>\n",
       "      <td>Alcoa Corp</td>\n",
       "      <td>NYSE</td>\n",
       "      <td>Aluminum</td>\n",
       "      <td>Basic Materials</td>\n",
       "      <td>NaN</td>\n",
       "      <td>NaN</td>\n",
       "      <td>1.477958e+09</td>\n",
       "      <td>1000:801</td>\n",
       "      <td>2020-10-14</td>\n",
       "      <td>2020-06-30 00:00:00</td>\n",
       "    </tr>\n",
       "    <tr>\n",
       "      <th>2</th>\n",
       "      <td>2</td>\n",
       "      <td>AAN</td>\n",
       "      <td>Aaron's, Inc</td>\n",
       "      <td>NYSE</td>\n",
       "      <td>Rental &amp; Leasing Services</td>\n",
       "      <td>Industrials</td>\n",
       "      <td>0.16</td>\n",
       "      <td>1.600214e+09</td>\n",
       "      <td>1.271376e+09</td>\n",
       "      <td>3:2</td>\n",
       "      <td>2020-11-02</td>\n",
       "      <td>2020-06-30 00:00:00</td>\n",
       "    </tr>\n",
       "    <tr>\n",
       "      <th>3</th>\n",
       "      <td>3</td>\n",
       "      <td>AAP</td>\n",
       "      <td>Advance Auto Parts, Inc W/I</td>\n",
       "      <td>NYSE</td>\n",
       "      <td>Specialty Retail</td>\n",
       "      <td>Consumer Cyclical</td>\n",
       "      <td>1.00</td>\n",
       "      <td>1.600301e+09</td>\n",
       "      <td>1.127693e+09</td>\n",
       "      <td>3:2</td>\n",
       "      <td>2020-11-10</td>\n",
       "      <td>2020-07-11 00:00:00</td>\n",
       "    </tr>\n",
       "    <tr>\n",
       "      <th>4</th>\n",
       "      <td>4</td>\n",
       "      <td>AAT</td>\n",
       "      <td>American Assets Trust, Inc</td>\n",
       "      <td>NYSE</td>\n",
       "      <td>REIT—Diversified</td>\n",
       "      <td>Real Estate</td>\n",
       "      <td>1.00</td>\n",
       "      <td>1.599610e+09</td>\n",
       "      <td>NaN</td>\n",
       "      <td>NaN</td>\n",
       "      <td>2020-10-27</td>\n",
       "      <td>2020-06-30 00:00:00</td>\n",
       "    </tr>\n",
       "  </tbody>\n",
       "</table>\n",
       "</div>"
      ],
      "text/plain": [
       "   Unnamed: 0 Symbol                         Name Exchange  \\\n",
       "0           0      A    Agilent Technologies, Inc     NYSE   \n",
       "1           1     AA                   Alcoa Corp     NYSE   \n",
       "2           2    AAN                 Aaron's, Inc     NYSE   \n",
       "3           3    AAP  Advance Auto Parts, Inc W/I     NYSE   \n",
       "4           4    AAT   American Assets Trust, Inc     NYSE   \n",
       "\n",
       "                    industry             sector  dividendRate  exDividendDate  \\\n",
       "0     Diagnostics & Research         Healthcare          0.72    1.593389e+09   \n",
       "1                   Aluminum    Basic Materials           NaN             NaN   \n",
       "2  Rental & Leasing Services        Industrials          0.16    1.600214e+09   \n",
       "3           Specialty Retail  Consumer Cyclical          1.00    1.600301e+09   \n",
       "4           REIT—Diversified        Real Estate          1.00    1.599610e+09   \n",
       "\n",
       "   lastSplitDate lastSplitFactor upcoming_earnings_date previous_earnings_date  \n",
       "0   1.414973e+09       1398:1000             2020-11-23    2020-07-31 00:00:00  \n",
       "1   1.477958e+09        1000:801             2020-10-14    2020-06-30 00:00:00  \n",
       "2   1.271376e+09             3:2             2020-11-02    2020-06-30 00:00:00  \n",
       "3   1.127693e+09             3:2             2020-11-10    2020-07-11 00:00:00  \n",
       "4            NaN             NaN             2020-10-27    2020-06-30 00:00:00  "
      ]
     },
     "execution_count": 3,
     "metadata": {},
     "output_type": "execute_result"
    }
   ],
   "source": [
    "stocks = pd.read_csv('cleaned_main_data.csv')\n",
    "stocks.head()"
   ]
  },
  {
   "cell_type": "code",
   "execution_count": 4,
   "metadata": {},
   "outputs": [],
   "source": [
    "stocks = stocks.drop(stocks.columns[0], axis=1)"
   ]
  },
  {
   "cell_type": "code",
   "execution_count": 5,
   "metadata": {},
   "outputs": [
    {
     "data": {
      "text/plain": [
       "list"
      ]
     },
     "execution_count": 5,
     "metadata": {},
     "output_type": "execute_result"
    }
   ],
   "source": [
    "# symbols = stocks['Symbol'][:5].tolist()\n",
    "symbols = stocks['Symbol'].tolist()\n",
    "type(symbols)"
   ]
  },
  {
   "cell_type": "code",
   "execution_count": 6,
   "metadata": {},
   "outputs": [
    {
     "data": {
      "text/plain": [
       "3940"
      ]
     },
     "execution_count": 6,
     "metadata": {},
     "output_type": "execute_result"
    }
   ],
   "source": [
    "len(symbols)"
   ]
  },
  {
   "cell_type": "code",
   "execution_count": null,
   "metadata": {},
   "outputs": [
    {
     "name": "stdout",
     "output_type": "stream",
     "text": [
      "[***********           22%                       ]  854 of 3934 completed"
     ]
    }
   ],
   "source": [
    "data = yf.download(\n",
    "tickers = symbols,\n",
    "period = '200d',\n",
    "group_by = 'ticker',\n",
    "auto_adjust = True,\n",
    "threads = True,\n",
    "proxy = None)"
   ]
  },
  {
   "cell_type": "code",
   "execution_count": null,
   "metadata": {},
   "outputs": [],
   "source": [
    "data.head(2)"
   ]
  },
  {
   "cell_type": "code",
   "execution_count": null,
   "metadata": {},
   "outputs": [],
   "source": [
    "stocks.shape"
   ]
  },
  {
   "cell_type": "code",
   "execution_count": null,
   "metadata": {},
   "outputs": [],
   "source": [
    "new_stocks = stocks[~(stocks.Symbol.isin(['GABC', 'FWONA', 'GFED', 'NATI']))]"
   ]
  },
  {
   "cell_type": "code",
   "execution_count": null,
   "metadata": {},
   "outputs": [],
   "source": [
    "new_stocks.shape"
   ]
  },
  {
   "cell_type": "code",
   "execution_count": null,
   "metadata": {},
   "outputs": [],
   "source": [
    "stocks.head(2)"
   ]
  },
  {
   "cell_type": "code",
   "execution_count": null,
   "metadata": {},
   "outputs": [],
   "source": [
    "earnings_date_index = stocks.columns.tolist().index('previous_earnings_date')\n",
    "symbol_index = stocks.columns.tolist().index('Symbol')"
   ]
  },
  {
   "cell_type": "code",
   "execution_count": null,
   "metadata": {},
   "outputs": [],
   "source": [
    "indicators = ['BBP', 'Exponential Moving Average']\n",
    "for indicator in indicators:\n",
    "    stocks.loc[:, indicator] = np.nan\n",
    "stocks.head(1)"
   ]
  },
  {
   "cell_type": "code",
   "execution_count": null,
   "metadata": {},
   "outputs": [],
   "source": [
    "#calculate exponential moving average\n",
    "def EMA(data, date, days=5, window=20, smoothing=2):\n",
    "    data = data / data.iloc[0]\n",
    "    data['SMA'] = data['Close'].rolling(window=window).mean()\n",
    "    data['EMA'] = data['SMA']\n",
    "    \n",
    "    ema_index = data.columns.tolist().index('EMA')\n",
    "    value_index = data.columns.tolist().index('Close')\n",
    "    \n",
    "    i=0\n",
    "    for row in data.itertuples():\n",
    "        \n",
    "        if i == 0:\n",
    "            previous_row = row\n",
    "        else:\n",
    "#             try:\n",
    "#                 value_today = row[value_index+1]\n",
    "#                 ema = (value_today *(smoothing/(1.0+days)) \n",
    "#                        + previous_row[ema_index+1] *(1.0-(smoothing/(1.0+days))))\n",
    "#                 data.at[i,'EMA'] = ema\n",
    "                \n",
    "#             except:\n",
    "#                 e = sys.exc_info()[0]\n",
    "            value_today = row[value_index+1]\n",
    "            ema = (value_today *(smoothing/(1.0+days)) \n",
    "                   + previous_row[ema_index+1] *(1.0-(smoothing/(1.0+days))))\n",
    "            data.at[row[0],'EMA'] = ema\n",
    "            previous_row = row\n",
    "            \n",
    "        i += 1\n",
    "    print(data)\n",
    "    idx = data.index.get_loc(date)\n",
    "    ema = data['EMA'].iloc[idx-days]\n",
    "#     print(bbp)\n",
    "    return ema\n"
   ]
  },
  {
   "cell_type": "code",
   "execution_count": null,
   "metadata": {},
   "outputs": [],
   "source": [
    "#calculate Bollinger Bands\n",
    "def BBP(data, date, days=5, window=20):\n",
    "\n",
    "    data['SMA'] = data['Close'].rolling(window=window).mean()\n",
    "    data['SD'] = data['Close'].rolling(window=window).std()\n",
    "    data['BB_above'] = data['SMA'] + 2*data['SD']\n",
    "    data['BB_below'] = data['SMA'] - 2*data['SD']\n",
    "    data['BBP'] = np.divide(data['Close'] - data['SMA'], 2*data['SD'])\n",
    "\n",
    "    #get the index of the earnings date\n",
    "    idx = data.index.get_loc(date)\n",
    "    \n",
    "    #\n",
    "#     print(data[idx-days:idx])\n",
    "    bbp = data['BBP'].iloc[idx-days]\n",
    "#     print(bbp)\n",
    "    return bbp\n",
    "    \n",
    "#     print (data['BBP']index)\n",
    "#     return data['BBP'].loc[date]\n",
    "#     data[symbol]['Open'].loc[earnings_date]"
   ]
  },
  {
   "cell_type": "code",
   "execution_count": null,
   "metadata": {},
   "outputs": [],
   "source": [
    "#calculate momentum\n",
    "def mom(data, date, days=5, window=20):\n",
    "    pass\n",
    "#     data = data / data.iloc[0]\n",
    "#     data['Close'] = np.divide(data.iloc[window:, 'Close'], data.iloc[::data.shape[0]-window, 'Close'])-1\n",
    "#     print(data)\n",
    "    \n",
    "#     pass"
   ]
  },
  {
   "cell_type": "code",
   "execution_count": null,
   "metadata": {},
   "outputs": [],
   "source": [
    "index=0\n",
    "days=5\n",
    "\n",
    "for row in stocks.itertuples():\n",
    "    earnings_date=(row[earnings_date_index+1])\n",
    "    symbol = row[symbol_index+1]\n",
    "#     print (data[symbol]['Open'].loc[a])\n",
    "    \n",
    "    # some data wasn't populated.  Check for this and populate it if so\n",
    "    j=0\n",
    "    while np.isnan(data[symbol]['Open'].loc[earnings_date]):\n",
    "        data[symbol] = update_data(symbol)\n",
    "        i += 1\n",
    "        if j > 5:\n",
    "            print('Data for ', symbol, ' will not update!')\n",
    "    \n",
    "    #get BBP.  Using try because data may not have updated above!!!\n",
    "    stocks.at[index, 'Exponential Moving Average'] == EMA(data[symbol].copy(), earnings_date, days)\n",
    "\n",
    "#     for indicator in indicators:\n",
    "#         try:\n",
    "#             if indicator == 'BBP':\n",
    "#                 stocks.at[index,indicator] = BBP(data[symbol].copy(), earnings_date, days)\n",
    "#             elif indicator == 'Momentum':\n",
    "#                 stocks.at[index,indicator] == mom(data[symbol].copy(), earnings_date, days)\n",
    "#             else:\n",
    "#                 stocks.at[index,indicator] == EMA(data[symbol].copy(), earnings_date, days)\n",
    "#         except:\n",
    "#             print('Could not create ', indicator, ' for ', symbol)\n",
    "\n",
    "    \n",
    "#     print(initial_date)\n",
    "#     print (symbol)\n",
    "#     print (row)\n",
    "    index +=1\n",
    "#     break"
   ]
  },
  {
   "cell_type": "code",
   "execution_count": null,
   "metadata": {},
   "outputs": [],
   "source": [
    "stocks.head(5)"
   ]
  },
  {
   "cell_type": "code",
   "execution_count": null,
   "metadata": {},
   "outputs": [],
   "source": []
  },
  {
   "cell_type": "code",
   "execution_count": null,
   "metadata": {},
   "outputs": [],
   "source": []
  }
 ],
 "metadata": {
  "kernelspec": {
   "display_name": "Python 3",
   "language": "python",
   "name": "python3"
  },
  "language_info": {
   "codemirror_mode": {
    "name": "ipython",
    "version": 3
   },
   "file_extension": ".py",
   "mimetype": "text/x-python",
   "name": "python",
   "nbconvert_exporter": "python",
   "pygments_lexer": "ipython3",
   "version": "3.8.2"
  }
 },
 "nbformat": 4,
 "nbformat_minor": 4
}
